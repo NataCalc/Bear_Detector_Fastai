{
  "metadata": {
    "kernelspec": {
      "language": "python",
      "display_name": "Python 3",
      "name": "python3"
    },
    "language_info": {
      "name": "python",
      "version": "3.10.14",
      "mimetype": "text/x-python",
      "codemirror_mode": {
        "name": "ipython",
        "version": 3
      },
      "pygments_lexer": "ipython3",
      "nbconvert_exporter": "python",
      "file_extension": ".py"
    },
    "kaggle": {
      "accelerator": "none",
      "dataSources": [],
      "dockerImageVersionId": 30761,
      "isInternetEnabled": true,
      "language": "python",
      "sourceType": "notebook",
      "isGpuEnabled": false
    },
    "colab": {
      "provenance": []
    }
  },
  "nbformat_minor": 0,
  "nbformat": 4,
  "cells": [
    {
      "cell_type": "markdown",
      "source": [
        "https://colab.research.google.com/github/fastai/fastbook/blob/master/02_production.ipynb#scrollTo=cNzVuQIQUsQX"
      ],
      "metadata": {
        "id": "lUiZCSVASqrW"
      }
    },
    {
      "cell_type": "code",
      "source": [
        "#hide\n",
        "! [ -e /content ] && pip install -Uqq fastbook\n",
        "import fastbook\n",
        "fastbook.setup_book()"
      ],
      "metadata": {
        "colab": {
          "base_uri": "https://localhost:8080/"
        },
        "id": "oiX2Lh8yf2CX",
        "outputId": "7fe2d374-b890-45b4-80ee-99b241fffbcc"
      },
      "execution_count": 3,
      "outputs": [
        {
          "output_type": "stream",
          "name": "stdout",
          "text": [
            "Mounted at /content/gdrive\n"
          ]
        }
      ]
    },
    {
      "cell_type": "code",
      "source": [
        "#hide\n",
        "from fastbook import *\n",
        "from fastai.vision.widgets import *\n",
        "\n"
      ],
      "metadata": {
        "id": "rmT-MDaxgTLV"
      },
      "execution_count": 4,
      "outputs": []
    },
    {
      "cell_type": "code",
      "source": [
        "!pip install -Uqq duckduckgo_search\n"
      ],
      "metadata": {
        "colab": {
          "base_uri": "https://localhost:8080/"
        },
        "id": "_4xXus3GgbDR",
        "outputId": "d36aae22-3e15-4db8-eeeb-0a5a958dbf4d"
      },
      "execution_count": 5,
      "outputs": [
        {
          "output_type": "stream",
          "name": "stdout",
          "text": [
            "\u001b[2K   \u001b[90m━━━━━━━━━━━━━━━━━━━━━━━━━━━━━━━━━━━━━━━━\u001b[0m \u001b[32m2.8/2.8 MB\u001b[0m \u001b[31m18.4 MB/s\u001b[0m eta \u001b[36m0:00:00\u001b[0m\n",
            "\u001b[?25h"
          ]
        }
      ]
    },
    {
      "cell_type": "code",
      "source": [
        "from itertools import islice\n",
        "from duckduckgo_search import DDGS\n",
        "from fastcore.all import *\n",
        "\n",
        "def search_images(term, max_images=30):\n",
        "    print(f\"Searching for '{term}'\")\n",
        "    # DDGS().images return an interator containing all images found\n",
        "    # we use islice to limit the number of results returned\n",
        "    return L(islice(DDGS().images(term), max_images)).itemgot('image')"
      ],
      "metadata": {
        "execution": {
          "iopub.status.busy": "2024-09-12T02:27:24.144705Z",
          "iopub.execute_input": "2024-09-12T02:27:24.145218Z",
          "iopub.status.idle": "2024-09-12T02:27:24.155891Z",
          "shell.execute_reply.started": "2024-09-12T02:27:24.145172Z",
          "shell.execute_reply": "2024-09-12T02:27:24.154411Z"
        },
        "trusted": true,
        "id": "1Gy_cK0qSqrb"
      },
      "execution_count": null,
      "outputs": []
    },
    {
      "cell_type": "code",
      "source": [
        "#NB: `search_images` depends on duckduckgo.com, which doesn't always return correct responses.\n",
        "#    If you get a JSON error, just try running it again (it may take a couple of tries).\n",
        "urls = search_images('grizzly', max_images=1)\n",
        "urls[0]\n"
      ],
      "metadata": {
        "execution": {
          "iopub.status.busy": "2024-09-12T02:27:24.159562Z",
          "iopub.execute_input": "2024-09-12T02:27:24.160153Z",
          "iopub.status.idle": "2024-09-12T02:27:24.567831Z",
          "shell.execute_reply.started": "2024-09-12T02:27:24.160084Z",
          "shell.execute_reply": "2024-09-12T02:27:24.566585Z"
        },
        "trusted": true,
        "id": "yZr0pPwbSqrc"
      },
      "execution_count": null,
      "outputs": []
    },
    {
      "cell_type": "code",
      "source": [
        "from fastdownload import download_url\n",
        "dest = 'grizzly.jpg'\n",
        "download_url(urls[0], dest, show_progress=True)\n",
        "\n",
        "from fastai.vision.all import *\n",
        "im = Image.open(dest)\n",
        "im.to_thumb(128,128)"
      ],
      "metadata": {
        "execution": {
          "iopub.status.busy": "2024-09-12T02:27:24.569364Z",
          "iopub.execute_input": "2024-09-12T02:27:24.569778Z",
          "iopub.status.idle": "2024-09-12T02:27:24.642088Z",
          "shell.execute_reply.started": "2024-09-12T02:27:24.569735Z",
          "shell.execute_reply": "2024-09-12T02:27:24.640715Z"
        },
        "trusted": true,
        "id": "eR-_vPvHSqrd"
      },
      "execution_count": null,
      "outputs": []
    },
    {
      "cell_type": "code",
      "source": [
        "bear_types = 'grizzly','black','teddy'\n",
        "path = Path('bears')\n",
        "for o in bear_types:\n",
        "    dest = (path/o)\n",
        "    dest.mkdir(exist_ok=True, parents=True)\n",
        "    results=search_images(f'{o} bear')\n",
        "    download_images(dest, urls=results)\n",
        "    #resize_images(path/o, max_size=400, dest=path/o)"
      ],
      "metadata": {
        "execution": {
          "iopub.status.busy": "2024-09-12T02:27:24.643809Z",
          "iopub.execute_input": "2024-09-12T02:27:24.644228Z",
          "iopub.status.idle": "2024-09-12T02:27:42.812286Z",
          "shell.execute_reply.started": "2024-09-12T02:27:24.644184Z",
          "shell.execute_reply": "2024-09-12T02:27:42.810463Z"
        },
        "trusted": true,
        "id": "B1KaF2ChSqrd"
      },
      "execution_count": null,
      "outputs": []
    },
    {
      "cell_type": "code",
      "source": [
        "fns = get_image_files(path)\n",
        "len(fns)\n"
      ],
      "metadata": {
        "execution": {
          "iopub.status.busy": "2024-09-12T02:27:42.814774Z",
          "iopub.execute_input": "2024-09-12T02:27:42.815366Z",
          "iopub.status.idle": "2024-09-12T02:27:42.835744Z",
          "shell.execute_reply.started": "2024-09-12T02:27:42.815301Z",
          "shell.execute_reply": "2024-09-12T02:27:42.833993Z"
        },
        "trusted": true,
        "id": "yGMW4ukOSqre"
      },
      "execution_count": null,
      "outputs": []
    },
    {
      "cell_type": "markdown",
      "source": [
        "Some photos might not download correctly which could cause our model training to fail, so we'll remove them:"
      ],
      "metadata": {
        "id": "sSTZLgNLSqrf"
      }
    },
    {
      "cell_type": "code",
      "source": [
        "failed = verify_images(get_image_files(path))\n",
        "failed.map(Path.unlink)\n",
        "len(failed)"
      ],
      "metadata": {
        "execution": {
          "iopub.status.busy": "2024-09-12T02:27:42.838082Z",
          "iopub.execute_input": "2024-09-12T02:27:42.838694Z",
          "iopub.status.idle": "2024-09-12T02:27:49.547807Z",
          "shell.execute_reply.started": "2024-09-12T02:27:42.838631Z",
          "shell.execute_reply": "2024-09-12T02:27:49.546282Z"
        },
        "trusted": true,
        "id": "MMOqQ9exSqrf"
      },
      "execution_count": null,
      "outputs": []
    },
    {
      "cell_type": "code",
      "source": [
        "bears = DataBlock(\n",
        "    blocks=(ImageBlock, CategoryBlock),\n",
        "    get_items=get_image_files,\n",
        "    splitter=RandomSplitter(valid_pct=0.2, seed=42),\n",
        "    get_y=parent_label,\n",
        "    #item_tfms=[Resize(192, method='squish')]\n",
        "    item_tfms=RandomResizedCrop(224, min_scale=0.5),\n",
        "    batch_tfms=aug_transforms()\n",
        ").dataloaders(path, bs=32)\n",
        "\n",
        "bears.show_batch(max_n=10)"
      ],
      "metadata": {
        "execution": {
          "iopub.status.busy": "2024-09-12T02:32:31.324651Z",
          "iopub.execute_input": "2024-09-12T02:32:31.325254Z",
          "iopub.status.idle": "2024-09-12T02:32:35.897362Z",
          "shell.execute_reply.started": "2024-09-12T02:32:31.325197Z",
          "shell.execute_reply": "2024-09-12T02:32:35.895443Z"
        },
        "trusted": true,
        "id": "671PqPekSqrg"
      },
      "execution_count": null,
      "outputs": []
    },
    {
      "cell_type": "code",
      "source": [
        "learn = vision_learner(bears, resnet18, metrics=error_rate)\n",
        "learn.fine_tune(4)"
      ],
      "metadata": {
        "execution": {
          "iopub.status.busy": "2024-09-12T02:43:26.936649Z",
          "iopub.execute_input": "2024-09-12T02:43:26.937288Z",
          "iopub.status.idle": "2024-09-12T02:50:22.090821Z",
          "shell.execute_reply.started": "2024-09-12T02:43:26.937232Z",
          "shell.execute_reply": "2024-09-12T02:50:22.089256Z"
        },
        "trusted": true,
        "id": "bWt_yk3lSqrg"
      },
      "execution_count": null,
      "outputs": []
    },
    {
      "cell_type": "code",
      "source": [
        "interp = ClassificationInterpretation.from_learner(learn)\n",
        "interp.plot_confusion_matrix()"
      ],
      "metadata": {
        "execution": {
          "iopub.status.busy": "2024-09-12T02:55:19.940845Z",
          "iopub.execute_input": "2024-09-12T02:55:19.941507Z",
          "iopub.status.idle": "2024-09-12T02:55:42.802075Z",
          "shell.execute_reply.started": "2024-09-12T02:55:19.941447Z",
          "shell.execute_reply": "2024-09-12T02:55:42.800191Z"
        },
        "trusted": true,
        "id": "ze8vjYxbSqrh"
      },
      "execution_count": null,
      "outputs": []
    },
    {
      "cell_type": "code",
      "source": [
        "interp.plot_top_losses(5, nrows=1)"
      ],
      "metadata": {
        "execution": {
          "iopub.status.busy": "2024-09-12T03:01:22.973749Z",
          "iopub.execute_input": "2024-09-12T03:01:22.974819Z",
          "iopub.status.idle": "2024-09-12T03:01:31.716891Z",
          "shell.execute_reply.started": "2024-09-12T03:01:22.974765Z",
          "shell.execute_reply": "2024-09-12T03:01:31.714364Z"
        },
        "trusted": true,
        "id": "KBmoIkpFSqri"
      },
      "execution_count": null,
      "outputs": []
    },
    {
      "cell_type": "code",
      "source": [
        "from fastai.vision.widgets import ImageClassifierCleaner\n",
        "\n",
        "doc(ImageClassifierCleaner)"
      ],
      "metadata": {
        "execution": {
          "iopub.status.busy": "2024-09-12T03:10:01.354116Z",
          "iopub.execute_input": "2024-09-12T03:10:01.354843Z",
          "iopub.status.idle": "2024-09-12T03:10:01.365177Z",
          "shell.execute_reply.started": "2024-09-12T03:10:01.354788Z",
          "shell.execute_reply": "2024-09-12T03:10:01.363455Z"
        },
        "trusted": true,
        "id": "8PzIXgnvSqri"
      },
      "execution_count": null,
      "outputs": []
    },
    {
      "cell_type": "code",
      "source": [
        "#hide_output\n",
        "cleaner = ImageClassifierCleaner(learn)\n",
        "cleaner"
      ],
      "metadata": {
        "execution": {
          "iopub.status.busy": "2024-09-12T03:13:44.730038Z",
          "iopub.execute_input": "2024-09-12T03:13:44.730544Z",
          "iopub.status.idle": "2024-09-12T03:14:31.589832Z",
          "shell.execute_reply.started": "2024-09-12T03:13:44.730492Z",
          "shell.execute_reply": "2024-09-12T03:14:31.588328Z"
        },
        "trusted": true,
        "id": "kZHor36BSqrj"
      },
      "execution_count": null,
      "outputs": []
    },
    {
      "cell_type": "code",
      "source": [
        "for idx in cleaner.delete(): cleaner.fns[idx].unlink()\n"
      ],
      "metadata": {
        "id": "9DEQbbLjY1Uy"
      },
      "execution_count": null,
      "outputs": []
    },
    {
      "cell_type": "code",
      "source": [
        "for idx,cat in cleaner.change(): shutil.move(str(cleaner.fns[idx]), path/cat)"
      ],
      "metadata": {
        "id": "lsr1hHSaZAJL"
      },
      "execution_count": null,
      "outputs": []
    },
    {
      "cell_type": "code",
      "source": [
        "learn = vision_learner(bears, resnet18, metrics=error_rate)\n",
        "learn.fine_tune(4)"
      ],
      "metadata": {
        "id": "TDr2j5Xdi6ge"
      },
      "execution_count": null,
      "outputs": []
    },
    {
      "cell_type": "code",
      "source": [
        "learn.export()"
      ],
      "metadata": {
        "id": "4-mqLJOz7yto"
      },
      "execution_count": null,
      "outputs": []
    },
    {
      "cell_type": "code",
      "source": [
        "path=Path()\n",
        "path.ls(file_exts='.pkl')"
      ],
      "metadata": {
        "id": "JZ3ODwPw75U6"
      },
      "execution_count": null,
      "outputs": []
    },
    {
      "cell_type": "code",
      "source": [
        "learn_inf=load_learner(path/'export.pkl')"
      ],
      "metadata": {
        "id": "BPVoeg-Z-yCX"
      },
      "execution_count": null,
      "outputs": []
    },
    {
      "cell_type": "code",
      "source": [
        "learn_inf.predict('grizzly.jpg')\n"
      ],
      "metadata": {
        "id": "ssE06cJh-5IB"
      },
      "execution_count": null,
      "outputs": []
    },
    {
      "cell_type": "code",
      "source": [
        "learn_inf.dls.vocab"
      ],
      "metadata": {
        "id": "FdXc2VTnHWTn"
      },
      "execution_count": null,
      "outputs": []
    },
    {
      "cell_type": "code",
      "source": [
        "#hide_output\n",
        "btn_upload=widgets.FileUpload()\n",
        "btn_upload"
      ],
      "metadata": {
        "id": "qRIBFnghHZJE"
      },
      "execution_count": null,
      "outputs": []
    },
    {
      "cell_type": "code",
      "source": [
        "#hide\n",
        "btn_upload=SimpleNamespace(data=['grizzly.jpg'])"
      ],
      "metadata": {
        "id": "Ll5CCTe4JG_K"
      },
      "execution_count": null,
      "outputs": []
    },
    {
      "cell_type": "code",
      "source": [
        "img=PILImage.create(btn_upload.data[-1])"
      ],
      "metadata": {
        "id": "m2YQX_jRJevg"
      },
      "execution_count": null,
      "outputs": []
    },
    {
      "cell_type": "code",
      "source": [
        "# Display the image using matplotlib\n",
        "plt.imshow(img)\n",
        "plt.axis('off')  # Hide axes for cleaner display\n",
        "plt.show()\n"
      ],
      "metadata": {
        "id": "LMpDIC39KQPa"
      },
      "execution_count": null,
      "outputs": []
    },
    {
      "cell_type": "code",
      "source": [
        "#hide_output\n",
        "out_pl=widgets.Output()\n",
        "out_pl.clear_output()\n",
        "with out_pl:display(img.to_thumb(128,128))\n",
        "out_pl"
      ],
      "metadata": {
        "id": "qeMf5cUeKRLO"
      },
      "execution_count": null,
      "outputs": []
    },
    {
      "cell_type": "code",
      "source": [
        "pred,pred_idx,probs=learn_inf.predict(img)"
      ],
      "metadata": {
        "id": "mzOaIyTIKxbb"
      },
      "execution_count": null,
      "outputs": []
    },
    {
      "cell_type": "code",
      "source": [
        "#hide_output\n",
        "lbl_pred = widgets.Label()\n",
        "lbl_pred.value = f'Prediction: {pred}; Probability: {probs[pred_idx]:.04f}'\n",
        "lbl_pred"
      ],
      "metadata": {
        "id": "IR3Kg_R5nqCg"
      },
      "execution_count": null,
      "outputs": []
    },
    {
      "cell_type": "code",
      "source": [
        "#hide_output\n",
        "btn_run = widgets.Button(description='Classify')\n",
        "btn_run\n"
      ],
      "metadata": {
        "id": "pNoRra0Zb7fZ"
      },
      "execution_count": null,
      "outputs": []
    },
    {
      "cell_type": "code",
      "source": [
        "def on_click_classify(change):\n",
        "    img = PILImage.create(btn_upload.data[-1])\n",
        "    out_pl.clear_output()\n",
        "    with out_pl: display(img.to_thumb(128,128))\n",
        "    pred,pred_idx,probs = learn_inf.predict(img)\n",
        "    lbl_pred.value = f'Prediction: {pred}; Probability: {probs[pred_idx]:.04f}'\n",
        "\n",
        "btn_run.on_click(on_click_classify)\n"
      ],
      "metadata": {
        "id": "xNFfirdRcC6o"
      },
      "execution_count": null,
      "outputs": []
    },
    {
      "cell_type": "code",
      "source": [
        "#hide\n",
        "#Putting back btn_upload to a widget for next cell\n",
        "btn_upload = widgets.FileUpload()\n"
      ],
      "metadata": {
        "id": "d8oD9Kd1n8jy"
      },
      "execution_count": null,
      "outputs": []
    },
    {
      "cell_type": "code",
      "source": [
        "#hide_output\n",
        "VBox([widgets.Label('Select your bear!'),\n",
        "      btn_upload, btn_run, out_pl, lbl_pred])\n"
      ],
      "metadata": {
        "colab": {
          "base_uri": "https://localhost:8080/",
          "height": 173
        },
        "id": "RXv_CmvxoOiR",
        "outputId": "15cfd8dc-5b5b-4292-db92-6b91f80843d8"
      },
      "execution_count": 1,
      "outputs": [
        {
          "output_type": "error",
          "ename": "NameError",
          "evalue": "name 'VBox' is not defined",
          "traceback": [
            "\u001b[0;31m---------------------------------------------------------------------------\u001b[0m",
            "\u001b[0;31mNameError\u001b[0m                                 Traceback (most recent call last)",
            "\u001b[0;32m<ipython-input-1-133c5a961b72>\u001b[0m in \u001b[0;36m<cell line: 2>\u001b[0;34m()\u001b[0m\n\u001b[1;32m      1\u001b[0m \u001b[0;31m#hide_output\u001b[0m\u001b[0;34m\u001b[0m\u001b[0;34m\u001b[0m\u001b[0m\n\u001b[0;32m----> 2\u001b[0;31m VBox([widgets.Label('Select your bear!'),\n\u001b[0m\u001b[1;32m      3\u001b[0m       btn_upload, btn_run, out_pl, lbl_pred])\n",
            "\u001b[0;31mNameError\u001b[0m: name 'VBox' is not defined"
          ]
        }
      ]
    },
    {
      "cell_type": "code",
      "source": [
        "!pip install voila\n",
        "!jupyter serverextension enable --sys-prefix voila\n"
      ],
      "metadata": {
        "id": "mLHMjG2i4CPc"
      },
      "execution_count": null,
      "outputs": []
    }
  ]
}